{
 "cells": [
  {
   "cell_type": "code",
   "execution_count": 2,
   "metadata": {},
   "outputs": [],
   "source": [
    "#CREATE CSV FILE\n",
    "import pandas as pd\n",
    "import numpy as np"
   ]
  },
  {
   "cell_type": "code",
   "execution_count": 2,
   "metadata": {},
   "outputs": [
    {
     "name": "stdout",
     "output_type": "stream",
     "text": [
      "    NAME   AGE  RANK\n",
      "0   AMAN    20     1\n",
      "1  KARAN    21     2\n",
      "2   RAVI    22     3\n"
     ]
    }
   ],
   "source": [
    "dis = {\n",
    "    \"NAME\":[\"AMAN\",\"KARAN\",\"RAVI\"],\" AGE\":[20,21,22],\"RANK\":[1,2,3]\n",
    "      }\n",
    "\n",
    "d = pd.DataFrame(dis)\n",
    "\n",
    "print(d)\n",
    "d.to_csv(\"new.csv\")"
   ]
  },
  {
   "cell_type": "code",
   "execution_count": 3,
   "metadata": {},
   "outputs": [],
   "source": [
    "# Sample data (dictionary)\n",
    "data = {\n",
    "    \"Name\": [\"Alice\", \"Bob\", \"Charlie\"],\n",
    "    \"Age\": [28, 32, 25],\n",
    "    \"City\": [\"New York\", \"San Francisco\", \"Los Angeles\"]\n",
    "}\n",
    "\n",
    "# Create DataFrame and save as CSV\n",
    "df = pd.DataFrame(data)\n",
    "df.to_csv(\"people_pandas.csv\", index=False, encoding='utf-8-sig')"
   ]
  }
 ],
 "metadata": {
  "kernelspec": {
   "display_name": "Python 3",
   "language": "python",
   "name": "python3"
  },
  "language_info": {
   "codemirror_mode": {
    "name": "ipython",
    "version": 3
   },
   "file_extension": ".py",
   "mimetype": "text/x-python",
   "name": "python",
   "nbconvert_exporter": "python",
   "pygments_lexer": "ipython3",
   "version": "3.12.3"
  }
 },
 "nbformat": 4,
 "nbformat_minor": 2
}
